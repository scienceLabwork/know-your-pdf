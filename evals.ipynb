{
 "cells": [
  {
   "cell_type": "code",
   "execution_count": 1,
   "metadata": {},
   "outputs": [],
   "source": [
    "import chainLLM\n",
    "from langchain.embeddings import HuggingFaceEmbeddings\n",
    "from sklearn.metrics.pairwise import cosine_similarity\n",
    "import numpy as np\n",
    "import pandas as pd"
   ]
  },
  {
   "cell_type": "code",
   "execution_count": 2,
   "metadata": {},
   "outputs": [
    {
     "name": "stderr",
     "output_type": "stream",
     "text": [
      "/opt/homebrew/lib/python3.11/site-packages/sentence_transformers/cross_encoder/CrossEncoder.py:11: TqdmExperimentalWarning: Using `tqdm.autonotebook.tqdm` in notebook mode. Use `tqdm.tqdm` instead to force console mode (e.g. in jupyter console)\n",
      "  from tqdm.autonotebook import tqdm, trange\n",
      "/opt/homebrew/lib/python3.11/site-packages/huggingface_hub/file_download.py:1132: FutureWarning: `resume_download` is deprecated and will be removed in version 1.0.0. Downloads always resume when possible. If you want to force a new download, use `force_download=True`.\n",
      "  warnings.warn(\n"
     ]
    }
   ],
   "source": [
    "model_choice = \"ChatGPT-4o\"\n",
    "data = chainLLM.pdf_data(\"policy-booklet-0923.pdf\")\n",
    "db = chainLLM.create_chunks(data)"
   ]
  },
  {
   "cell_type": "code",
   "execution_count": 31,
   "metadata": {},
   "outputs": [],
   "source": [
    "def similarity_score(sentence1,sentence2):\n",
    "    embeddings_model = HuggingFaceEmbeddings(model_name=\"sentence-transformers/all-mpnet-base-v2\")\n",
    "    embedding1 = embeddings_model.embed_query(sentence1)\n",
    "    embedding2 = embeddings_model.embed_query(sentence2)\n",
    "    print(embedding1, embedding2)\n",
    "    embedding1 = np.array(embedding1).reshape(1, -1)\n",
    "    embedding2 = np.array(embedding2).reshape(1, -1)\n",
    "    similarity_score = cosine_similarity(embedding1, embedding2)[0][0]\n",
    "    similarity_score = round(similarity_score, 4)\n",
    "    return similarity_score\n"
   ]
  },
  {
   "cell_type": "code",
   "execution_count": 36,
   "metadata": {},
   "outputs": [],
   "source": [
    "df = pd.read_csv('dataset.csv')\n",
    "questions = df['Query'].tolist()\n",
    "answers = df['Response'].tolist()\n",
    "df_evaluation = {\n",
    "    'Query': [],\n",
    "    'Original Response': [],\n",
    "    'LLM Response': []\n",
    "}"
   ]
  },
  {
   "cell_type": "code",
   "execution_count": 34,
   "metadata": {},
   "outputs": [
    {
     "ename": "TypeError",
     "evalue": "'numpy.float64' object is not callable",
     "output_type": "error",
     "traceback": [
      "\u001b[0;31m---------------------------------------------------------------------------\u001b[0m",
      "\u001b[0;31mTypeError\u001b[0m                                 Traceback (most recent call last)",
      "Cell \u001b[0;32mIn[34], line 5\u001b[0m\n\u001b[1;32m      3\u001b[0m original_response \u001b[38;5;241m=\u001b[39m \u001b[38;5;28mstr\u001b[39m(answers[index])\u001b[38;5;241m.\u001b[39mreplace(\u001b[38;5;124m'\u001b[39m\u001b[38;5;130;01m\\'\u001b[39;00m\u001b[38;5;124m'\u001b[39m, \u001b[38;5;124m'\u001b[39m\u001b[38;5;124m'\u001b[39m)\n\u001b[1;32m      4\u001b[0m llm_response \u001b[38;5;241m=\u001b[39m \u001b[38;5;28mstr\u001b[39m(chainLLM\u001b[38;5;241m.\u001b[39mget_output(query, db, model_choice))\u001b[38;5;241m.\u001b[39mreplace(\u001b[38;5;124m'\u001b[39m\u001b[38;5;130;01m\\'\u001b[39;00m\u001b[38;5;124m'\u001b[39m, \u001b[38;5;124m'\u001b[39m\u001b[38;5;124m'\u001b[39m)\n\u001b[0;32m----> 5\u001b[0m similarity_score \u001b[38;5;241m=\u001b[39m \u001b[43msimilarity_score\u001b[49m\u001b[43m(\u001b[49m\u001b[43moriginal_response\u001b[49m\u001b[43m,\u001b[49m\u001b[43mllm_response\u001b[49m\u001b[43m)\u001b[49m\n",
      "\u001b[0;31mTypeError\u001b[0m: 'numpy.float64' object is not callable"
     ]
    }
   ],
   "source": [
    "index = 1\n",
    "query = str(questions[index])\n",
    "original_response = str(answers[index]).replace('\\'', '')\n",
    "llm_response = str(chainLLM.get_output(query, db, model_choice)).replace('\\'', '')\n",
    "# similarity_score = similarity_score(original_response,llm_response)"
   ]
  },
  {
   "cell_type": "code",
   "execution_count": 37,
   "metadata": {},
   "outputs": [
    {
     "name": "stdout",
     "output_type": "stream",
     "text": [
      "Query: What information does the booklet provide?\n",
      "Query: What are the benefits included in the policy?\n",
      "Query: What are some of the exclusions in the policy?\n",
      "Query: How do I make a claim?\n",
      "Query: When is the policy renewal notice sent?\n",
      "Query: Who can I contact for assistance with my policy?\n",
      "Query: What types of coverage does the policy offer?\n",
      "Query: Are pre-existing conditions covered by the policy?\n",
      "Query: How soon should I notify the insurer after an incident?\n",
      "Query: What should be reviewed during policy renewal?\n",
      "Query: Is the customer service available 24/7?\n",
      "Query: What should be included when making a claim?\n",
      "Query: How does personal accident coverage work in the policy?\n",
      "Query: What is the critical illness coverage about?\n",
      "Query: Are self-inflicted injuries covered by the policy?\n",
      "Query: What are the general exclusions in this policy?\n",
      "Query: What is the procedure for renewing the policy?\n",
      "Query: How do I contact customer service?\n",
      "Query: When should I review my policy terms?\n",
      "Query: What documents are needed to make a claim?\n",
      "Query: Can I get assistance outside of office hours?\n",
      "Query: What types of incidents are excluded from coverage?\n",
      "Query: What should be done within 30 days of an incident?\n",
      "Query: How is medical coverage provided under this policy?\n",
      "Query: What is the notice period for policy renewal?\n",
      "Query: How can I ensure my policy is renewed correctly?\n",
      "Query: What should be checked during policy renewal?\n",
      "Query: Are injuries during illegal activities covered?\n",
      "Query: What steps are involved in making a claim?\n",
      "Query: How soon must the insurer be notified of an incident?\n",
      "Query: What conditions must be met for critical illness coverage?\n",
      "Query: Are there any conditions for personal accident coverage?\n",
      "Query: What does the policy booklet contain?\n",
      "Query: How are pre-existing conditions handled in the policy?\n",
      "Query: What is the process for contacting customer service?\n",
      "Query: When do I need to start the claim process?\n",
      "Query: What are the specific exclusions in this policy?\n",
      "Query: Who should I reach out to for policy queries?\n",
      "Query: What benefits does medical coverage include?\n"
     ]
    }
   ],
   "source": [
    "for i in range(len(questions)): \n",
    "    query = str(questions[i])\n",
    "    original_response = str(answers[i]).replace('\\'', '')\n",
    "    llm_response = str(chainLLM.get_output(query, db, model_choice)).replace('\\'', '')\n",
    "    # similarity_score = similarity_score(original_response,llm_response)\n",
    "    df_evaluation['Query'].append(str(query))\n",
    "    df_evaluation['Original Response'].append(str(original_response))\n",
    "    df_evaluation['LLM Response'].append(str(llm_response))\n",
    "    print(f\"Query: {query}\")"
   ]
  },
  {
   "cell_type": "code",
   "execution_count": 38,
   "metadata": {},
   "outputs": [],
   "source": [
    "df_evaluation = pd.DataFrame(df_evaluation)\n",
    "df_evaluation.to_csv('evaluation_metrics_llm_org.csv', index=False)"
   ]
  }
 ],
 "metadata": {
  "kernelspec": {
   "display_name": "Python 3",
   "language": "python",
   "name": "python3"
  },
  "language_info": {
   "codemirror_mode": {
    "name": "ipython",
    "version": 3
   },
   "file_extension": ".py",
   "mimetype": "text/x-python",
   "name": "python",
   "nbconvert_exporter": "python",
   "pygments_lexer": "ipython3",
   "version": "3.11.9"
  }
 },
 "nbformat": 4,
 "nbformat_minor": 2
}
